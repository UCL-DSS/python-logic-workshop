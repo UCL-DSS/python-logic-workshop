{
 "cells": [
  {
   "cell_type": "markdown",
   "metadata": {},
   "source": [
    "## Data Science Workshop 2: Logic (Solutions)\n",
    "Feel free to go through to refer back to the workshop content when solving these problems!\n",
    "### Debugging problems\n",
    "The following problems will have written code that is incorrect in some way. Your job will be to debug it and fix it so that it works as intended. When debugging code the error messages can often tell you where a problem may lie. Here the comments indicate what the code is intended to do."
   ]
  },
  {
   "cell_type": "markdown",
   "metadata": {},
   "source": [
    "#### 1)  \n",
    "The loop below is intended to loop find the sum of all even numbers from 2 to 100. The correct code should give $2550$ as the output."
   ]
  },
  {
   "cell_type": "code",
   "execution_count": null,
   "metadata": {},
   "outputs": [],
   "source": [
    "## PROBLEM CODE CELL\n",
    "# Initialising n\n",
    "n = 1\n",
    "\n",
    "# Variable that stores the sum\n",
    "value = 0\n",
    "\n",
    "# Loop runs while n is less than or equal to 100 \n",
    "while n < 100:\n",
    "    # Updates the value of n\n",
    "    n = n + 2\n",
    "\n",
    "# Outputs result\n",
    "print(value)"
   ]
  },
  {
   "cell_type": "code",
   "execution_count": null,
   "metadata": {},
   "outputs": [],
   "source": [
    "## SOLUTION CODE CELL\n",
    "# Initialising n\n",
    "n = 2\n",
    "\n",
    "# Variable that stores the sum\n",
    "value = 0\n",
    "\n",
    "# Loop runs while n is less than or equal to 100 \n",
    "while n <= 100:\n",
    "    # Adds to the sum\n",
    "    value += n\n",
    "    \n",
    "    # Updates the value of n\n",
    "    n = n + 2\n",
    "\n",
    "# Outputs result\n",
    "print(value)"
   ]
  },
  {
   "cell_type": "markdown",
   "metadata": {
    "collapsed": true
   },
   "source": [
    "#### 2)\n",
    "The loop below is supposed to find the product of all odd numbers from 3 to 15 ie $ 3\\times 5 \\times 7...$ the correct output should be $2027025$."
   ]
  },
  {
   "cell_type": "code",
   "execution_count": null,
   "metadata": {},
   "outputs": [],
   "source": [
    "## PROBLEM CODE CELL\n",
    "# Variable to store result\n",
    "value = 0\n",
    "\n",
    "# Loop over all numbers from 3 to 100\n",
    "for i in range(3,15):\n",
    "    # Conditional statement to determine if i is odd\n",
    "    if i//2 == 0\n",
    "    # Multipies the current product by i\n",
    "    value = value*i\n",
    "\n",
    "# Outputs result\n",
    "print(value)"
   ]
  },
  {
   "cell_type": "code",
   "execution_count": null,
   "metadata": {
    "scrolled": true
   },
   "outputs": [],
   "source": [
    "## SOLUTION CODE CELL\n",
    "# Variable to store result\n",
    "value = 1\n",
    "\n",
    "# Loop over all numbers from 1 to 100\n",
    "for i in range(3,16):\n",
    "    # Conditional statement to determine if i is odd ie has a remainder when devided by 2\n",
    "    if i%2 != 0:\n",
    "        # Multipies the current product by i\n",
    "        value = value*i\n",
    "\n",
    "# Outputs result\n",
    "print(value)"
   ]
  },
  {
   "cell_type": "markdown",
   "metadata": {},
   "source": [
    "#### 3) \n",
    "Below we define a function that finds the sum of reciprocals of all integers from $1$ to $n$ ie $ 1+\\frac{1}{2}+\\frac{1}{3}+\\frac{1}{4}+...+\\frac{1}{n}$. Output should be $9.787606036044348$."
   ]
  },
  {
   "cell_type": "code",
   "execution_count": null,
   "metadata": {},
   "outputs": [],
   "source": [
    "## PROBLEM CODE CELL\n",
    "# Defining the function\n",
    "def reciprocal_sum\n",
    "    '''Function that finds the sum of the reciprocal of all integers\n",
    "    from 1 to n'''\n",
    "    \n",
    "    # Stores total\n",
    "    total = 0\n",
    "    \n",
    "    # Loops over all integers from 1 to n\n",
    "    for i in range(n):\n",
    "        # Updates sum value\n",
    "        total += 1/n\n",
    "\n",
    "# Runs the function\n",
    "reciprocal_sum(10000)\n",
    "\n",
    "# Outputs result\n",
    "print(total)"
   ]
  },
  {
   "cell_type": "code",
   "execution_count": null,
   "metadata": {},
   "outputs": [],
   "source": [
    "## SOLUTION CODE CELL WITHOUT GLOBAL VARIABLES\n",
    "# Defining the function\n",
    "def reciprocal_sum(n):\n",
    "    '''Function that finds the sum of the reciprocal of all integers\n",
    "    from 1 to n'''\n",
    "    \n",
    "    # Stores total\n",
    "    total = 0\n",
    "    \n",
    "    # Loops over all integers from 1 to n\n",
    "    for i in range(1,n+1):\n",
    "        # Updates sum value\n",
    "        total += 1/i\n",
    "    \n",
    "    # Returns the final sum value\n",
    "    return total\n",
    "\n",
    "# Runs the function\n",
    "total = reciprocal_sum(10000)\n",
    "\n",
    "# Outputs result\n",
    "print(total)"
   ]
  },
  {
   "cell_type": "code",
   "execution_count": null,
   "metadata": {},
   "outputs": [],
   "source": [
    "## SOLUTION CODE CELL USING GLOBAL VARIABLES\n",
    "# Defining the function\n",
    "def reciprocal_sum(n):\n",
    "    '''Function that finds the sum of the reciprocal of all integers\n",
    "    from 1 to n'''\n",
    "    global total\n",
    "    \n",
    "    # Stores total\n",
    "    total = 0\n",
    "    \n",
    "    # Loops over all integers from 1 to n\n",
    "    for i in range(1,n+1):\n",
    "        # Updates sum value\n",
    "        total += 1/i\n",
    "\n",
    "# Runs the function\n",
    "reciprocal_sum(10000)\n",
    "\n",
    "# Outputs result\n",
    "print(total)\n",
    "\n",
    "'''\n",
    "      NOTE: \n",
    "\n",
    "      Because we have defined 'total' as a 'global' variable, we do not need\n",
    "      to return it at the end of the 'reciprocal_sum' function in order to \n",
    "      define it again through 'total = reciprocal_sum(10000)'.\n",
    "      \n",
    "      Instead, because 'total' is a global variable and therefore also exists\n",
    "      OUTSIDE of the 'reciprocal_sum' function, Python knows that when we call\n",
    "      it in the 'print(total)' statement outside of the function, we are \n",
    "      referring to the same variable. \n",
    "'''"
   ]
  },
  {
   "cell_type": "markdown",
   "metadata": {},
   "source": [
    "### Coding from scratch\n",
    "This section will include problems where no code is given."
   ]
  },
  {
   "cell_type": "markdown",
   "metadata": {},
   "source": [
    "#### 1)\n",
    "Using a ````while```` loop print the all multiples of $5$ from $1$ to $1000$. Run the code cell to see if this is working then comment out the print line in the loop. Now add use the loop to add all the multiples of $5$ from $1$ to $1000$ and print the final result. The correct output should be $100500$."
   ]
  },
  {
   "cell_type": "code",
   "execution_count": null,
   "metadata": {},
   "outputs": [],
   "source": [
    "## SOLUTION CODE CELL\n",
    "\n",
    "# Initialise counter\n",
    "n = 5\n",
    "\n",
    "# Variable to store sum\n",
    "value = 0\n",
    "\n",
    "# Runs while n is less than or equal to 1000\n",
    "while n <= 1000:\n",
    "    # Prints current value of n\n",
    "    #print(n)\n",
    "    \n",
    "    # Updates sum total\n",
    "    value = value + n\n",
    "    \n",
    "    # Updates value of n\n",
    "    n = n + 5\n",
    "    \n",
    "# Output final result\n",
    "print(value)"
   ]
  },
  {
   "cell_type": "markdown",
   "metadata": {},
   "source": [
    "#### 2)\n",
    "Using a ````for```` loop find the sum of the following series: $1$, $0.5$, $0.25$, $0.125$..... where each term is the previous term multiplied by $0.5$ up to $1000$ times ie $\\sum^{1000}_{i=0} r^i$. The result should be $2.0$. Now add a conditional statement inside your loop so the sum only includes even power terms in the series ie multiplied $1$ by $0.5$ an even number of times or when $i$ is even. The new result should be $1.3333333333333333$. \n",
    "\n",
    "(OPTIONAL) Writing ````break```` within a loop will kill the loop. The summation we are looking at eventually converges meaning that subsequent terms are so small that the change to the summation total is not noticable. However, if we have set a the sum to run to a value of $i$ after convergence the code will still effectively wasting time. Use a conditional statement to determine when a new term is below some threshold value called the tolerance so that convergence can be determined. When this is the case simply write ````break```` to kill the loop. Then test your updated loop up to a value of $100000001$ which would normally take some time to run. If your code works the cell shouldn't take too much time to run since the loop breaks when the new values added to the sum become redundant. Use a tolerance value of $0.000000000000000000001$."
   ]
  },
  {
   "cell_type": "code",
   "execution_count": null,
   "metadata": {},
   "outputs": [],
   "source": [
    "## SOLUTION CODE CELL\n",
    "# Ratio\n",
    "r = 0.5 \n",
    "\n",
    "# Summation total\n",
    "value = 0\n",
    "\n",
    "# Loop over integers from 0 to 1000\n",
    "for i in range(1001):\n",
    "    # If i is even ie no remainder when dividing by 2\n",
    "    if i%2 == 0:\n",
    "        # If a new term is too small break the loop (OPTIONAL)\n",
    "        if r**i < 0.000000000000000000001:\n",
    "            break\n",
    "        \n",
    "        # Updates sum total\n",
    "        value += r**i \n",
    "\n",
    "# Outputs final result\n",
    "print(value)      "
   ]
  },
  {
   "cell_type": "markdown",
   "metadata": {},
   "source": [
    "#### 3) \n",
    "Copy and paste the code you wrote from problem 4) into the code cell below. Adapt the code into a function named ````geo_sum```` that passes the ratio ````r```` and end point ````end```` as arguments. Use your function to print the results for an ````r```` of $0.75$ with ````end```` of $100$ and ````r```` of $0.25$ with ````end```` of $50$. The output for these should be $2.285714285713873$ and $1.0666666666666667$ respectively."
   ]
  },
  {
   "cell_type": "code",
   "execution_count": null,
   "metadata": {},
   "outputs": [],
   "source": [
    "## SOLUTION CODE CELL\n",
    "# Defining our function\n",
    "def geo_sum(r, end):\n",
    "    '''Function that takes a geometric series of ratio r\n",
    "    and end point end'''\n",
    "\n",
    "    # Summation total\n",
    "    value = 0\n",
    "\n",
    "    # Loop over integers from 0 to end\n",
    "    for i in range(end+1):\n",
    "        # If i is even ie no remainder when dividing by 2\n",
    "        if i%2 == 0:\n",
    "            # If a new term is too small, break the loop (OPTIONAL)\n",
    "            if r**i < 0.000000000000000000001:\n",
    "                break\n",
    "        \n",
    "            # Updates sum total\n",
    "            value += r**i \n",
    "   \n",
    "    # Returns the summation total        \n",
    "    return value\n",
    "\n",
    "# Outputs final results\n",
    "print(geo_sum(0.75,100)) \n",
    "print(geo_sum(0.25,50)) "
   ]
  }
 ],
 "metadata": {
  "kernelspec": {
   "display_name": "DSS",
   "language": "python",
   "name": "dss"
  },
  "language_info": {
   "codemirror_mode": {
    "name": "ipython",
    "version": 3
   },
   "file_extension": ".py",
   "mimetype": "text/x-python",
   "name": "python",
   "nbconvert_exporter": "python",
   "pygments_lexer": "ipython3",
   "version": "3.9.6"
  }
 },
 "nbformat": 4,
 "nbformat_minor": 2
}
