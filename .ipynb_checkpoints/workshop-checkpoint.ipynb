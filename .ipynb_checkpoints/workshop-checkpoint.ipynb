{
 "cells": [
  {
   "cell_type": "markdown",
   "metadata": {},
   "source": [
    "# [PY03] - Introduction to Python Programming - workshop\n",
    "\n",
    "## Python Logic, functions and variables\n",
    "\n",
    "**Author:** Stefania Juks, Science Executive (19/20)\n",
    "\n",
    "**Edited by:** Philip Wilkinson, Head of Scince (20/21) - philip.wilkinson.19@ucl.ac.uk\n",
    "\n",
    "**Date:** 12 Aug 2021\n",
    "\n",
    "***Proudly presented by the UCL Data Science Society***"
   ]
  },
  {
   "cell_type": "markdown",
   "metadata": {},
   "source": [
    "The purpose of this workshop is to introduce you to some of the key logic in Python, functions and variables. In this workshops you will learn:\n",
    "\n",
    "### 1) [Conditional statements](#ConStats)\n",
    "\n",
    "### 2) [Loops](#Loops)\n",
    "\n",
    "### 3) [Functions](#Functions)\n",
    "\n",
    "For this we will take a closer look at how to use and initiate conditional statements in Python, loops and how to define function, covering a thorough introduction into these topics. Most of these techniques, building on top of the previous workshops in fundamentals and sequences, act as the building blocks for any Python programming application that you will encounter. \n",
    "\n",
    "These act as key foundations for most programming applications and their logic appear in many of the software tools or data science projects that you will interact with at some point. This includes being a key part of many of the foundations of the tools that you will encounter through your time as a budding data scientists.\n",
    "\n",
    "If it useful to pay attention to how these are used, created and implemented so that you will be able to recognise them in the wild and why they may be used:"
   ]
  },
  {
   "cell_type": "markdown",
   "metadata": {},
   "source": [
    "<a id = \"ConStats\"></a>"
   ]
  },
  {
   "cell_type": "markdown",
   "metadata": {},
   "source": [
    "### Conditionals statements\n",
    "\n",
    "Python as a language suppurts the usual logical conditions from Mathematics which includes:\n",
    "\n",
    "<br>\n",
    "Equals: $a == b$\n",
    "<br>\n",
    "Not Equals: $ a != b$\n",
    "<br>\n",
    "Less than: $a < b$ \n",
    "<br>\n",
    "Less than or equal to: $a <= b$\n",
    "<br>\n",
    "Greater than: $a > b$\n",
    "<br>\n",
    "Greater than or equal to: $a >= b$\n",
    "\n",
    "These conditions allow you to check whether something is true or false within the data. For example, we can check whether the value assigned to one value is equal to something else:"
   ]
  },
  {
   "cell_type": "code",
   "execution_count": 1,
   "metadata": {},
   "outputs": [
    {
     "name": "stdout",
     "output_type": "stream",
     "text": [
      "3\n",
      "False\n",
      "True\n"
     ]
    }
   ],
   "source": [
    "#assign a value to x\n",
    "x = 3\n",
    "#print the value\n",
    "print(x)\n",
    "#check whether x is equal to 4\n",
    "print(x == 4)\n",
    "#what about whether x is equal to 3\n",
    "print(x == 3)"
   ]
  },
  {
   "cell_type": "markdown",
   "metadata": {},
   "source": [
    "A key distinction to be made here is that the single equals sign is used for assignment of a varible (i.e. storing something in the named variable) while the double equals sign is used to check whether one value is equal to another.\n",
    "\n",
    "You can try checking the results of different conditionals by using the print statement which will return True or False:"
   ]
  },
  {
   "cell_type": "code",
   "execution_count": 5,
   "metadata": {},
   "outputs": [
    {
     "name": "stdout",
     "output_type": "stream",
     "text": [
      "False\n",
      "True\n",
      "True\n",
      "False\n",
      "False\n",
      "True\n",
      "True\n"
     ]
    }
   ],
   "source": [
    "# check different conditions\n",
    "\n",
    "print(x<= 1)\n",
    "print(x >=1)\n",
    "print(x!=0)\n",
    "print(x>5)\n",
    "print(x % 2 == 0)\n",
    "print(\"A\" in \"Alpha\")\n",
    "print(\"B\" not in \"Alpha\")\n",
    "\n",
    "# Python will return True or False"
   ]
  },
  {
   "cell_type": "markdown",
   "metadata": {},
   "source": [
    "The value returned here from these conditions is called a Boolean. This is a value type that can only take the values of either `True` or `False` and is used primarily to indicate whether a condition is met. We can check this as follows:"
   ]
  },
  {
   "cell_type": "code",
   "execution_count": 6,
   "metadata": {},
   "outputs": [
    {
     "name": "stdout",
     "output_type": "stream",
     "text": [
      "<class 'bool'>\n",
      "<class 'bool'>\n"
     ]
    }
   ],
   "source": [
    "print(type(x==3))\n",
    "print(type(x<1))"
   ]
  },
  {
   "cell_type": "markdown",
   "metadata": {},
   "source": [
    "As we can see, we get the returned value of a class type `bool` which is short for Boolean.\n",
    "\n",
    "What this means is that we can use these conditions in If, Else and Elif statements that are used to be able to run certain pieces of code if certain conditions are met:"
   ]
  },
  {
   "cell_type": "markdown",
   "metadata": {},
   "source": [
    "#### If, Else and Elif\n",
    "\n",
    "Python conditionals follow the same logic as usual english condition. For example:\n",
    "\n",
    "\"If I had money I would get a BMW M2, otherwise I would but a bike\"\n",
    "\n",
    "This could be rewritten as:\n",
    "\n",
    "\"If I had money THEN I would buy a BMW M2, ELSE I would buy a bike\"\n",
    "\n",
    "Python's IF structure follows this same scheme. \n",
    "\n",
    "Thus we can create the following example:"
   ]
  },
  {
   "cell_type": "code",
   "execution_count": 7,
   "metadata": {
    "scrolled": true
   },
   "outputs": [
    {
     "name": "stdout",
     "output_type": "stream",
     "text": [
      "a equals b\n"
     ]
    }
   ],
   "source": [
    "# assign a and b values\n",
    "a = 10\n",
    "b = 10\n",
    "\n",
    "# add a condition\n",
    "if a == b:\n",
    "    # tell Python what to do if the condition is met\n",
    "    print(\"a equals b\")"
   ]
  },
  {
   "cell_type": "markdown",
   "metadata": {},
   "source": [
    "We can see here that the condition is met and consequently the print statement is ran.\n",
    "\n",
    "A key point here is the use of indentation (the white space at the beginning of a line) to define what code to run if that condition is met. This is often taken as four `spaces` or one `tab` which is used to tell the interpreter what code to run based on the conditional statement. Another key point here also is the use of `:` which is used to tell the program that this is the end of the conditional, after this point expect indented code. Without these things then the code would not run.\n",
    "\n",
    "The alternative here is what if the condition is not met:"
   ]
  },
  {
   "cell_type": "code",
   "execution_count": 8,
   "metadata": {},
   "outputs": [],
   "source": [
    "#chenge the values so the condition is no longer met\n",
    "a = 10\n",
    "b = 20\n",
    "\n",
    "# implement the original condition\n",
    "if a == b:\n",
    "    # tell Python what to do if the condition is met\n",
    "    print(\"a equals b\")"
   ]
  },
  {
   "cell_type": "markdown",
   "metadata": {},
   "source": [
    "We can see here that the condition not being met has meant that the code that would have otherwise run, did not run. \n",
    "\n",
    "What if instead of running nothing, we wanted the code to output the fact that \"a does not equal b\". We can do this with an `else` statement as follows:"
   ]
  },
  {
   "cell_type": "code",
   "execution_count": 9,
   "metadata": {},
   "outputs": [
    {
     "name": "stdout",
     "output_type": "stream",
     "text": [
      "a does not equal b\n"
     ]
    }
   ],
   "source": [
    "# assign a and b values\n",
    "a = 10\n",
    "b = 20\n",
    "\n",
    "# add a condition\n",
    "if a == b:\n",
    "    # tell Python what to do if the condition is met\n",
    "    print(\"a equals b\")\n",
    "# if a is different from b \n",
    "else:\n",
    "    print(\"a does not equal b\")\n",
    "    # this message will be printed"
   ]
  },
  {
   "cell_type": "markdown",
   "metadata": {},
   "source": [
    "We can see now that instead of no code running, if the condition is not met, then the code following the `else` statement i run instead. \n",
    "\n",
    "This simply means that if the first condition is not met, then regardless of anything else happening, the second block of code will run instead.\n",
    "\n",
    "It is important to note for this that the `:` and indentation is still required to indicate that this is a block of code that is to be run if the initial condition is not met. If we did not use this notation then the second code block would have run regardless:"
   ]
  },
  {
   "cell_type": "code",
   "execution_count": 10,
   "metadata": {},
   "outputs": [
    {
     "name": "stdout",
     "output_type": "stream",
     "text": [
      "a equals b\n",
      "a does not equal b\n"
     ]
    }
   ],
   "source": [
    "# assign a and b values\n",
    "a = 10\n",
    "b = 10\n",
    "\n",
    "# add a condition\n",
    "if a == b:\n",
    "    # tell Python what to do if the condition is met\n",
    "    print(\"a equals b\")\n",
    "\n",
    "print(\"a does not equal b\")\n",
    "# this message will be printed"
   ]
  },
  {
   "cell_type": "markdown",
   "metadata": {},
   "source": [
    "We can see here what happens if the `else` statement and other notation is not used, we get code running when we don't want it to.\n",
    "\n",
    "Another aspect of this is what if we want to build in more information into our conditional. What is instead of just speciying whether `a equals b` we wanted to say whether `a is larger than b` or `a is smaller than b`. We can do this bu ising an `elif` statement. This acts as another if statement essentially and is equivalent to `else if` (it is just written as a shortcut as us programmers are lazy. This then allows us to build in more information and more options to our if statement:"
   ]
  },
  {
   "cell_type": "code",
   "execution_count": 5,
   "metadata": {},
   "outputs": [
    {
     "name": "stdout",
     "output_type": "stream",
     "text": [
      "a is not equal to b nor smaller\n"
     ]
    }
   ],
   "source": [
    "# assign a and b values\n",
    "a = 11\n",
    "b = 10\n",
    "\n",
    "# add a condition\n",
    "if a == b:\n",
    "    # tell Python what to do if the condition is met\n",
    "    print(\"a equals b\")\n",
    "# if a is different from b and smaller\n",
    "elif a < b:\n",
    "    print(\"a is smaller than b\")\n",
    "else:\n",
    "    print(\"a is not equal to b nor smaller\")\n",
    "    # this message will be printed"
   ]
  },
  {
   "cell_type": "markdown",
   "metadata": {},
   "source": [
    "We can see here that we now have built in more functionality into our simple conditional statement. This allows more complicated conditionals to be undertaken by the code if multiple different actions are undertaken. For example in a game where there are many different avenues to pursue, you can use a multi stage conditional to implement different results in response to those different choices."
   ]
  },
  {
   "cell_type": "markdown",
   "metadata": {},
   "source": [
    "### Logical operators - not / and / or\n",
    "\n",
    "We can also make these more complicated by building in the logical operators of `not`, `and` and `or`. What these mean that in terms of conditionals:\n",
    "\n",
    "- __and__ returns True if both statements are true;\n",
    "- __or__ returns True if one of the statements is true;\n",
    "- __not__ reverse the result, returns False if the result is true;\n",
    "\n",
    "Using these logical operators allows the conditional to check for multiple conditionals. We can look at the following examples and change the assigned values for a, b and c to see the different outcomes:"
   ]
  },
  {
   "cell_type": "code",
   "execution_count": 11,
   "metadata": {},
   "outputs": [
    {
     "name": "stdout",
     "output_type": "stream",
     "text": [
      "1\n",
      "a or b is even and c is positive.\n",
      "Both conditions are true.\n"
     ]
    }
   ],
   "source": [
    "# assign values to a, b and c\n",
    "a = 1\n",
    "b = 2\n",
    "c = 3\n",
    "\n",
    "# check different conditions\n",
    "if a > b and b > c:\n",
    "    print(\"Both conditions are True.\")\n",
    "    \n",
    "if a > b or a > c:\n",
    "    print(\"At least one of the conditions is True.\")\n",
    "    \n",
    "if not(a % 2 == 0): # If a is NOT even, it will be printed.\n",
    "    print(a)\n",
    "\n",
    "if a > b and a > c and b > c:\n",
    "    print(\"All conditions are true.\")\n",
    "    \n",
    "if a % 2 == 0 or b % 2 == 0 and c > 0: # Be careful which command will be evaluated first.\n",
    "    print(\"a or b is even and c is positive.\")\n",
    "\n",
    "if not(a > 100) and b < 3:\n",
    "    print(\"Both conditions are true.\")\n",
    "    \n",
    "if not(a + b < 10) or b < 0:\n",
    "    print(\"At least one of the conditions is true.\")\n",
    "    \n",
    "# if not(a + b > 10 and c > 0): Will this condition print anything?\n",
    "   # print (\"\")\n"
   ]
  },
  {
   "cell_type": "markdown",
   "metadata": {},
   "source": [
    "From this it is important to note the precendence of different logical operators follows:\n",
    "\n",
    "1. __not__ \n",
    "\n",
    "2. __and__\n",
    "\n",
    "3. __or__\n",
    "\n",
    "Which is also important to be born in mind"
   ]
  },
  {
   "cell_type": "markdown",
   "metadata": {},
   "source": [
    "### The nested if\n",
    "\n",
    "It is possible to also have multiple if statements within one single if statement. This could be used instead of elif and else statements but can be used to check for deeper and deeper meaning within the data once the original condition has been passed:"
   ]
  },
  {
   "cell_type": "code",
   "execution_count": 12,
   "metadata": {
    "scrolled": true
   },
   "outputs": [
    {
     "name": "stdout",
     "output_type": "stream",
     "text": [
      "b is odd\n",
      "a is greater than 10\n",
      "a is greater than 50\n"
     ]
    }
   ],
   "source": [
    "# assign a value to a\n",
    "a = 51\n",
    "b = 5\n",
    "\n",
    "if b % 2 == 1:\n",
    "    print (\"b is odd\")\n",
    "    if a > 10:\n",
    "        print(\"a is greater than 10\")\n",
    "        if a > 50:\n",
    "            print(\"a is greater than 50\")"
   ]
  },
  {
   "cell_type": "markdown",
   "metadata": {},
   "source": [
    "### Short hand statements\n",
    "\n",
    "Finally, you can also shorten these statements to only one line if each instance only has one statement to execute. For example:"
   ]
  },
  {
   "cell_type": "code",
   "execution_count": 15,
   "metadata": {},
   "outputs": [
    {
     "name": "stdout",
     "output_type": "stream",
     "text": [
      "B\n"
     ]
    }
   ],
   "source": [
    "#creat the two variables\n",
    "a = 2\n",
    "b = 3\n",
    "\n",
    "#for a simple if statement\n",
    "if a > b: print(\"A is greater than B\")\n",
    "\n",
    "#for an if, else statement\n",
    "print(\"A\") if a > b else print(\"B\")\n"
   ]
  },
  {
   "cell_type": "markdown",
   "metadata": {},
   "source": [
    "#### Example Problem"
   ]
  },
  {
   "cell_type": "markdown",
   "metadata": {},
   "source": [
    "Knowing the values for a, b and c, check to see if they can represent the lengths of a triangle. If so, mention which kind it is: equilateral, isosceles, straight-angled or scalene."
   ]
  },
  {
   "cell_type": "code",
   "execution_count": 13,
   "metadata": {},
   "outputs": [
    {
     "name": "stdout",
     "output_type": "stream",
     "text": [
      "It is a scalene triangle.\n"
     ]
    }
   ],
   "source": [
    "# assign values to our 'sides'\n",
    "a = 7\n",
    "b = 6\n",
    "c = 2\n",
    "\n",
    "\"First, to see if they could be sides, all must be positive.\"\n",
    "\"The condition for them to represent triangle sides is that no side is longer then the sum of the other two.\"\n",
    "\"this must be checked within the first <if> to be sure that you only deal with positive values\"\n",
    "\n",
    "if a <= 0 or b <= 0 or c <= 0:\n",
    "    print(\"They can't represent lengths.\")\n",
    "else:\n",
    "    if a >= b + c or b >= a + c or c >= a + b:\n",
    "        print(\"It is not a triangle.\")\n",
    "    else:\n",
    "        \"Now, we know we can have a triangle, we are just trying to see what kind.\"\n",
    "        if a == b == c:\n",
    "            print(\"It is an equilateral triangle.\")\n",
    "        elif a == b or a == c or b == c:\n",
    "            print(\"It is an isosceles triangle.\")\n",
    "        elif a**2 == b**2 + c**2 or b**2 == c**2 + a**2 or c**2 == a**2 + b**2:\n",
    "            print(\"It is a right-angled triangle.\")\n",
    "        else:\n",
    "            print(\"It is a scalene triangle.\")"
   ]
  },
  {
   "cell_type": "markdown",
   "metadata": {},
   "source": [
    "<a id = \"Loops\"></a>"
   ]
  },
  {
   "cell_type": "markdown",
   "metadata": {},
   "source": [
    "## Loops\n",
    "\n",
    "Loops are an important structure to be able to learn for automating multiple instances of the same task. For example if you wanted to perform the same operation on each item in a list you could use a loop to iterate over the list and perform that task, or if you wanted to produce a given output while a certain condition met you can also use a loop.\n",
    "\n",
    "For this, it is important to note that there are two different types of loops:\n",
    "\n",
    "- while loops\n",
    "- for loops\n",
    "\n",
    "Both of these have the same format as the if statement in that they both will have a colon after the condition line and the block of code to loop over will be indented."
   ]
  },
  {
   "cell_type": "markdown",
   "metadata": {},
   "source": [
    "#### While Loop\n",
    "\n",
    "A while loop will repeat the instructions within the indented block of code as long as the initial condition that created the lopp remains true:"
   ]
  },
  {
   "cell_type": "code",
   "execution_count": 16,
   "metadata": {},
   "outputs": [
    {
     "name": "stdout",
     "output_type": "stream",
     "text": [
      "0\n",
      "1\n",
      "2\n",
      "3\n",
      "4\n",
      "5\n",
      "6\n",
      "7\n",
      "8\n",
      "9\n",
      "10\n"
     ]
    }
   ],
   "source": [
    "# initialise the variable\n",
    "x = 0\n",
    "\n",
    "# write the condition\n",
    "while x <= 10:\n",
    "    \"the following lines will be executed as long as x is smaller or equal than 10\"\n",
    "    print (x)\n",
    "    \"however, if there are no changes made to our variable, the loop will continue infinetely\"\n",
    "    \"so, in this case, we will increase x by one\"\n",
    "    x = x + 1\n",
    "    "
   ]
  },
  {
   "cell_type": "markdown",
   "metadata": {},
   "source": [
    "#### Infinite Loop\n",
    "As I mentioned, if there are no changes made to the variable, the loop will never end. This is what we would call an Infinite Loop."
   ]
  },
  {
   "cell_type": "code",
   "execution_count": 19,
   "metadata": {},
   "outputs": [],
   "source": [
    "#DO NOT TRY RUNNING THIS CODE\n",
    "#x = 0\n",
    "\n",
    "#while True:\n",
    " #   print (x)"
   ]
  },
  {
   "cell_type": "markdown",
   "metadata": {},
   "source": [
    "#### Break\n",
    "\n",
    "To exit an infinite loop you can use the **break** command."
   ]
  },
  {
   "cell_type": "code",
   "execution_count": 20,
   "metadata": {},
   "outputs": [
    {
     "name": "stdout",
     "output_type": "stream",
     "text": [
      "0\n"
     ]
    }
   ],
   "source": [
    "# initialise x\n",
    "x = 0\n",
    "\n",
    "# start the loop\n",
    "while True:\n",
    "    print(x)\n",
    "    # when reaching the break command, the code stops \n",
    "    break"
   ]
  },
  {
   "cell_type": "markdown",
   "metadata": {},
   "source": [
    "This command can also stop a loop that isn't infinite if an alternative condition is met."
   ]
  },
  {
   "cell_type": "code",
   "execution_count": 91,
   "metadata": {},
   "outputs": [
    {
     "name": "stdout",
     "output_type": "stream",
     "text": [
      "0\n",
      "1\n",
      "2\n",
      "3\n",
      "4\n",
      "5\n"
     ]
    }
   ],
   "source": [
    "# initialise x\n",
    "x = 0\n",
    "\n",
    "# start the loop\n",
    "while x < 100:\n",
    "    print(x)\n",
    "  # add a condition\n",
    "    if x == 5:\n",
    "    # if the condition is met, stop the code\n",
    "        break\n",
    "    # if the condition isn't met, x will increase and the loop will continue\n",
    "    x += 1"
   ]
  },
  {
   "cell_type": "markdown",
   "metadata": {},
   "source": [
    "#### Continue\n",
    "\n",
    "To skip over a certain iteration of the while loop you could also use the `continue` statement."
   ]
  },
  {
   "cell_type": "code",
   "execution_count": 19,
   "metadata": {},
   "outputs": [
    {
     "name": "stdout",
     "output_type": "stream",
     "text": [
      "1\n",
      "2\n",
      "3\n",
      "5\n",
      "6\n",
      "7\n",
      "8\n",
      "9\n",
      "10\n"
     ]
    }
   ],
   "source": [
    "#initialise x\n",
    "x = 0\n",
    "\n",
    "#start the loop\n",
    "while x < 10:\n",
    "    \n",
    "    #add one to the value\n",
    "    x += 1\n",
    "    #continue condition\n",
    "    if x == 4:\n",
    "        #input the continue statement\n",
    "        continue\n",
    "    \n",
    "    #the output of the loop if the continue statement is not run\n",
    "    print(x)\n"
   ]
  },
  {
   "cell_type": "markdown",
   "metadata": {},
   "source": [
    "####  Example\n",
    "Now, let's do a simple exercise. We will calculate the sum of all numbers between 1 and 10.\n",
    "After running the code, try changing the code so you will only find the sum of the odd numbers smaller than 10."
   ]
  },
  {
   "cell_type": "code",
   "execution_count": 92,
   "metadata": {},
   "outputs": [
    {
     "name": "stdout",
     "output_type": "stream",
     "text": [
      "55\n"
     ]
    }
   ],
   "source": [
    "# initialise the variables\n",
    "x = 1\n",
    "s = 0\n",
    "\n",
    "# start the loop\n",
    "while x <= 10:\n",
    "    # add i to our sum\n",
    "    s = s + x\n",
    "    # increase the variable\n",
    "    x += 1\n",
    "    \n",
    "print(s)"
   ]
  },
  {
   "cell_type": "markdown",
   "metadata": {},
   "source": [
    "### For loop\n",
    "\n",
    "A **FOR** loop, in contrast to the **WHILE** loop, doesn't require you to increment a variable as it will do it itself. So, FOR a variable, x, in a certain list/ dictionary/ string, the variable will take every value in the list, in order. Look at the following examples:"
   ]
  },
  {
   "cell_type": "code",
   "execution_count": 17,
   "metadata": {},
   "outputs": [
    {
     "name": "stdout",
     "output_type": "stream",
     "text": [
      "red\n",
      "blue\n",
      "yellow\n",
      "green\n",
      "orange\n"
     ]
    }
   ],
   "source": [
    "# define a list\n",
    "colours = [\"red\", \"blue\", \"yellow\",\"green\",\"orange\"]\n",
    "\n",
    "# loop over the list\n",
    "for x in colours:\n",
    "    #print each value in the list\n",
    "    print(x)"
   ]
  },
  {
   "cell_type": "markdown",
   "metadata": {},
   "source": [
    "You can also loop over strings."
   ]
  },
  {
   "cell_type": "code",
   "execution_count": 18,
   "metadata": {},
   "outputs": [
    {
     "name": "stdout",
     "output_type": "stream",
     "text": [
      "r\n",
      "e\n",
      "d\n"
     ]
    }
   ],
   "source": [
    "#create the for condition\n",
    "for x in \"red\":\n",
    "    #print the result\n",
    "    print(x)"
   ]
  },
  {
   "cell_type": "markdown",
   "metadata": {},
   "source": [
    "As before for the **While** loop, we can also take advantage of both the `continue` and `break statement`"
   ]
  },
  {
   "cell_type": "code",
   "execution_count": 22,
   "metadata": {},
   "outputs": [
    {
     "name": "stdout",
     "output_type": "stream",
     "text": [
      "red\n",
      "yellow\n",
      "green\n"
     ]
    }
   ],
   "source": [
    "#create the for condition\n",
    "for x in colours:\n",
    "    \n",
    "    #if the color is blue\n",
    "    if x == \"blue\":\n",
    "        #then skip\n",
    "        continue\n",
    "        \n",
    "    #else if the color is green\n",
    "    elif x == \"orange\":\n",
    "        #break the loop\n",
    "        break\n",
    "        \n",
    "    #print the color\n",
    "    print(x)"
   ]
  },
  {
   "cell_type": "markdown",
   "metadata": {},
   "source": [
    "#### The range() function\n",
    "\n",
    "A very useful way of looping over numbers is by using the **Range** function. There are 2 ways this can be done:\n",
    "1. **for i in range(n)**, loop starts at **0** and ends at **n-1**\n",
    "2. **for i in range(x,n)**, the loop starts at **x** and ends at **n-1**\n",
    "<br>\n",
    "\n",
    "**!** Remember that the range's upper bound is exclusive.\n",
    "<br>\n",
    "__NOTE:__ Python starts counting at 0!\n",
    "\n",
    "<br>\n",
    "For example:\n"
   ]
  },
  {
   "cell_type": "code",
   "execution_count": 25,
   "metadata": {},
   "outputs": [
    {
     "name": "stdout",
     "output_type": "stream",
     "text": [
      "0\n",
      "1\n",
      "2\n",
      "3\n",
      "4\n",
      "5\n",
      "6\n",
      "7\n",
      "8\n",
      "9\n"
     ]
    }
   ],
   "source": [
    "for i in range(10):\n",
    "    print(i)"
   ]
  },
  {
   "cell_type": "code",
   "execution_count": 26,
   "metadata": {},
   "outputs": [
    {
     "name": "stdout",
     "output_type": "stream",
     "text": [
      "5\n",
      "6\n",
      "7\n",
      "8\n",
      "9\n"
     ]
    }
   ],
   "source": [
    "for i in range(5,10):\n",
    "    print(i)"
   ]
  },
  {
   "cell_type": "markdown",
   "metadata": {},
   "source": [
    "Below, we will calculate the sum of the first 10 numbers (as we did using a while loop before). We can see that this time there's no need to increment the i.\n"
   ]
  },
  {
   "cell_type": "code",
   "execution_count": 93,
   "metadata": {},
   "outputs": [
    {
     "name": "stdout",
     "output_type": "stream",
     "text": [
      "55\n"
     ]
    }
   ],
   "source": [
    "# initialise the sum variable\n",
    "s = 0\n",
    "# begin the loop\n",
    "for i in range(1,11):\n",
    "    # add the number to our sum\n",
    "    s = s + i\n",
    "    \n",
    "#print the result\n",
    "print(s)\n"
   ]
  },
  {
   "cell_type": "markdown",
   "metadata": {},
   "source": [
    "Let's adjust the code to calculate the sum of odd numbers only."
   ]
  },
  {
   "cell_type": "code",
   "execution_count": 97,
   "metadata": {},
   "outputs": [
    {
     "name": "stdout",
     "output_type": "stream",
     "text": [
      "25\n"
     ]
    }
   ],
   "source": [
    "# initialise the sum variable\n",
    "s = 0 \n",
    "# begin the loop\n",
    "for i in range(1,11):\n",
    "    # add the number to our sum\n",
    "    if i % 2 == 1:\n",
    "         s = s + i\n",
    "print(s)\n"
   ]
  },
  {
   "cell_type": "markdown",
   "metadata": {},
   "source": [
    "#### Nested Loops\n",
    "\n",
    "As with conditionals, it is also possible to have nested loops within each other. "
   ]
  },
  {
   "cell_type": "code",
   "execution_count": 102,
   "metadata": {},
   "outputs": [
    {
     "name": "stdout",
     "output_type": "stream",
     "text": [
      "red shirt\n",
      "red socks\n",
      "blue shirt\n",
      "blue socks\n",
      "yellow shirt\n",
      "yellow socks\n",
      "green shirt\n",
      "green socks\n",
      "orange shirt\n",
      "orange socks\n"
     ]
    }
   ],
   "source": [
    "# defining two lists\n",
    "colours = [\"red\", \"blue\", \"yellow\",\"green\",\"orange\"]\n",
    "clothes = [\"shirt\", \"socks\"]\n",
    "\n",
    "for x in colours: # first, we'll go over the first list \n",
    "      for y in clothes: # now, we'll go over the second one\n",
    "        print(x, y)"
   ]
  },
  {
   "cell_type": "markdown",
   "metadata": {},
   "source": [
    "#### Example Problem\n",
    "Try creating an output that will display:\n",
    "<br>*\n",
    "<br>**\n",
    "<br>***\n",
    "\n",
    "\n",
    "\n"
   ]
  },
  {
   "cell_type": "code",
   "execution_count": 186,
   "metadata": {},
   "outputs": [
    {
     "name": "stdout",
     "output_type": "stream",
     "text": [
      "\n",
      "*\n",
      "**\n",
      "***\n"
     ]
    }
   ],
   "source": [
    "# start the first loop\n",
    "for i in range(4): \n",
    "    \"We will go up to 4 as i represents the number of the line containing '*'\"\n",
    "    # start the second loop\n",
    "    \"This loop will control the columns\"\n",
    "    for j in range(i):            \n",
    "        print('*', end = '')  \n",
    "    print()      \n",
    "    "
   ]
  },
  {
   "cell_type": "markdown",
   "metadata": {},
   "source": [
    "Try modifying the code above to get different shapes:\n",
    "1. 3 additional lines below the existing ones, containing 4,5 and respectively 6 * on the line.\n",
    "2. 3 * on the first line, 2 on the second and one on the third."
   ]
  },
  {
   "cell_type": "markdown",
   "metadata": {},
   "source": [
    "<a id = \"Functions\"></a>"
   ]
  },
  {
   "cell_type": "markdown",
   "metadata": {},
   "source": [
    "## Functions\n",
    "\n",
    "Functions are extremely useful when you have a code that requires you to calculate something over and over again. You can create algorithms (for calculating sums, averages, standard deviations and more other) and call upon them when you need them. This is a way of reducing the amount of code that you actually produce. \n",
    "\n",
    "An important acronmy in coding is <b>DRY</b>\n",
    "\n",
    "**Don't** <br>\n",
    "**Repeat** <br>\n",
    "**Yourself** <br>\n",
    "\n",
    "Which means you shouldn't be creating the same code over an over again as why would you want to!\n",
    "\n",
    "A function does then by creating a block of code that runs when the function itself when it is called. You can pass data, known as parameters, to the function and it can return data as a result"
   ]
  },
  {
   "cell_type": "markdown",
   "metadata": {},
   "source": [
    "#### Defining a function\n",
    "\n",
    "To define a function you will need to write **def function_name(_input variables_):** \n",
    "\n",
    "This follows the same notation as we have been using for both conditional statement and loops as above in that you need the colon and indentation.\n",
    "\n",
    "<br>\n",
    "For example, using the code we wrote for our triangle problem, we can create a function that will check any a, b, c to see what kind of triangle it is (if it can be one). \n",
    "\n",
    "For this, it is important to name functions appropriately, as here we will call it `triangle_function` as this ensures anyone using your code knows what it is and is meant to do. For python, it is convention to name functions using lowercase with a `_` to indicate differences between words so that they are easy to read as well:"
   ]
  },
  {
   "cell_type": "code",
   "execution_count": 23,
   "metadata": {},
   "outputs": [],
   "source": [
    "def triangle_function(a,b,c):\n",
    "    if a <= 0 or b <= 0 or c <= 0:\n",
    "        print(\"They can't represent lengths.\")\n",
    "    else:\n",
    "        if a >= b + c or b >= a + c or c >= a + b:\n",
    "            print(\"It is not a triangle.\")\n",
    "        else:\n",
    "            \"Now, we know we can have a triangle, we are just trying to see what kind.\"\n",
    "            if a == b == c:\n",
    "                print(\"It is an equilateral triangle.\")\n",
    "            elif a == b or a == c or b == c:\n",
    "                print(\"It is an isosceles triangle.\")\n",
    "            elif a**2 == b**2 + c**2 or b**2 == c**2 + a**2 or c**2 == a**2 + b**2:\n",
    "                print(\"It is a right-angled triangle.\")\n",
    "            else:\n",
    "                print(\"It is a scalene triangle.\")"
   ]
  },
  {
   "cell_type": "markdown",
   "metadata": {},
   "source": [
    "#### Calling a function\n",
    "Now, running the code above produced no output. But, it created the function which we will be able to call now for any set of variables we want. Try changing the numbers in the parantheses to see if the function works."
   ]
  },
  {
   "cell_type": "code",
   "execution_count": 126,
   "metadata": {},
   "outputs": [
    {
     "name": "stdout",
     "output_type": "stream",
     "text": [
      "It is a right-angled triangle.\n",
      "It is an equilateral triangle.\n"
     ]
    }
   ],
   "source": [
    "triangle_function(3,4,5)\n",
    "triangle_function(1,1,1)"
   ]
  },
  {
   "cell_type": "markdown",
   "metadata": {},
   "source": [
    "This essentially simplifies implementing the code that instead of creating the code again an again, we can just call the function.\n",
    "\n",
    "It is important to note here that information has been passed into the function as arguments (input variables). Arguments are specified after the function name, inside the brackets, and you can add as many arguments as you want but we need to seperate them with a comma. \n",
    "\n",
    "In this example, we used three arguments (or parameters, whatever you want to call them!). If we try to feed the function any more or less arguments than specified in the function construction we will get an error:"
   ]
  },
  {
   "cell_type": "code",
   "execution_count": 24,
   "metadata": {},
   "outputs": [
    {
     "ename": "TypeError",
     "evalue": "my_function() missing 1 required positional argument: 'c'",
     "output_type": "error",
     "traceback": [
      "\u001b[1;31m---------------------------------------------------------------------------\u001b[0m",
      "\u001b[1;31mTypeError\u001b[0m                                 Traceback (most recent call last)",
      "\u001b[1;32m~\\AppData\\Local\\Temp/ipykernel_3564/1009925093.py\u001b[0m in \u001b[0;36m<module>\u001b[1;34m\u001b[0m\n\u001b[1;32m----> 1\u001b[1;33m \u001b[0mmy_function\u001b[0m\u001b[1;33m(\u001b[0m\u001b[1;36m3\u001b[0m\u001b[1;33m,\u001b[0m\u001b[1;36m4\u001b[0m\u001b[1;33m)\u001b[0m\u001b[1;33m\u001b[0m\u001b[1;33m\u001b[0m\u001b[0m\n\u001b[0m",
      "\u001b[1;31mTypeError\u001b[0m: my_function() missing 1 required positional argument: 'c'"
     ]
    }
   ],
   "source": [
    "triangle_function(3,4)"
   ]
  },
  {
   "cell_type": "code",
   "execution_count": 25,
   "metadata": {},
   "outputs": [
    {
     "ename": "TypeError",
     "evalue": "my_function() takes 3 positional arguments but 4 were given",
     "output_type": "error",
     "traceback": [
      "\u001b[1;31m---------------------------------------------------------------------------\u001b[0m",
      "\u001b[1;31mTypeError\u001b[0m                                 Traceback (most recent call last)",
      "\u001b[1;32m~\\AppData\\Local\\Temp/ipykernel_3564/2131875176.py\u001b[0m in \u001b[0;36m<module>\u001b[1;34m\u001b[0m\n\u001b[1;32m----> 1\u001b[1;33m \u001b[0mmy_function\u001b[0m\u001b[1;33m(\u001b[0m\u001b[1;36m3\u001b[0m\u001b[1;33m,\u001b[0m\u001b[1;36m4\u001b[0m\u001b[1;33m,\u001b[0m\u001b[1;36m5\u001b[0m\u001b[1;33m,\u001b[0m\u001b[1;36m6\u001b[0m\u001b[1;33m)\u001b[0m\u001b[1;33m\u001b[0m\u001b[1;33m\u001b[0m\u001b[0m\n\u001b[0m",
      "\u001b[1;31mTypeError\u001b[0m: my_function() takes 3 positional arguments but 4 were given"
     ]
    }
   ],
   "source": [
    "triangle_function(3,4,5,6)"
   ]
  },
  {
   "cell_type": "markdown",
   "metadata": {},
   "source": [
    "The error will tell you how many arguments are missing or how many extra were given so it is important to pay attention.\n",
    "\n",
    "We can get around this by specifying deafult values to ensure that the function would run even if we did not input all the arguments, or indeed if we put none in at all:"
   ]
  },
  {
   "cell_type": "code",
   "execution_count": 26,
   "metadata": {},
   "outputs": [],
   "source": [
    "def triangle_function(a = 3,b = 4,c =5):\n",
    "    \n",
    "    if a <= 0 or b <= 0 or c <= 0:\n",
    "        print(\"They can't represent lengths.\")\n",
    "    else:\n",
    "        if a >= b + c or b >= a + c or c >= a + b:\n",
    "            print(\"It is not a triangle.\")\n",
    "        else:\n",
    "            \"Now, we know we can have a triangle, we are just trying to see what kind.\"\n",
    "            if a == b == c:\n",
    "                print(\"It is an equilateral triangle.\")\n",
    "            elif a == b or a == c or b == c:\n",
    "                print(\"It is an isosceles triangle.\")\n",
    "            elif a**2 == b**2 + c**2 or b**2 == c**2 + a**2 or c**2 == a**2 + b**2:\n",
    "                print(\"It is a right-angled triangle.\")\n",
    "            else:\n",
    "                print(\"It is a scalene triangle.\")"
   ]
  },
  {
   "cell_type": "code",
   "execution_count": 27,
   "metadata": {},
   "outputs": [
    {
     "name": "stdout",
     "output_type": "stream",
     "text": [
      "It is a right-angled triangle.\n",
      "It is a right-angled triangle.\n"
     ]
    }
   ],
   "source": [
    "triangle_function()\n",
    "triangle_function(3,4)"
   ]
  },
  {
   "cell_type": "markdown",
   "metadata": {},
   "source": [
    "We can see here that the function hasn't broken like it did previously. \n",
    "\n",
    "We can also input variables in the incorrect order if we specify the parameter when we call the function:"
   ]
  },
  {
   "cell_type": "code",
   "execution_count": 28,
   "metadata": {},
   "outputs": [
    {
     "name": "stdout",
     "output_type": "stream",
     "text": [
      "It is a right-angled triangle.\n"
     ]
    }
   ],
   "source": [
    "triangle_function(c = 5, b = 4, a =3)"
   ]
  },
  {
   "cell_type": "markdown",
   "metadata": {},
   "source": [
    "Which is important to note when there are many parameters for a function but you don't necessarily want to specify all of them when you are happy with the default ones. For this however, it is important to note that you cannot put a non-defined parameter after a defined parameter:"
   ]
  },
  {
   "cell_type": "code",
   "execution_count": 32,
   "metadata": {},
   "outputs": [
    {
     "ename": "SyntaxError",
     "evalue": "positional argument follows keyword argument (Temp/ipykernel_3564/1484231010.py, line 1)",
     "output_type": "error",
     "traceback": [
      "\u001b[1;36m  File \u001b[1;32m\"C:\\Users\\phili\\AppData\\Local\\Temp/ipykernel_3564/1484231010.py\"\u001b[1;36m, line \u001b[1;32m1\u001b[0m\n\u001b[1;33m    my_function(b = 3, 4)\u001b[0m\n\u001b[1;37m                       ^\u001b[0m\n\u001b[1;31mSyntaxError\u001b[0m\u001b[1;31m:\u001b[0m positional argument follows keyword argument\n"
     ]
    }
   ],
   "source": [
    "triangle_function(b = 3, 4)"
   ]
  },
  {
   "cell_type": "code",
   "execution_count": 33,
   "metadata": {},
   "outputs": [
    {
     "name": "stdout",
     "output_type": "stream",
     "text": [
      "It is a right-angled triangle.\n"
     ]
    }
   ],
   "source": [
    "triangle_function(3, b = 4, c = 5)"
   ]
  },
  {
   "cell_type": "markdown",
   "metadata": {},
   "source": [
    "In creating a function, it is also important to create a doc string to be able to tell users what the function actually does. It can be used for users of the code who can't necessary see your comments"
   ]
  },
  {
   "cell_type": "code",
   "execution_count": 34,
   "metadata": {},
   "outputs": [],
   "source": [
    "def triangle_function(a = 3,b = 4,c =5):\n",
    "    \"\"\"Used to determine what type of triangle a triangle with sides of length a, b and c are\n",
    "    \n",
    "    Inputs:\n",
    "        a, b, c: length of sides, default: 3, 4, 5\n",
    "    \"\"\"\n",
    "    if a <= 0 or b <= 0 or c <= 0:\n",
    "        print(\"They can't represent lengths.\")\n",
    "    else:\n",
    "        if a >= b + c or b >= a + c or c >= a + b:\n",
    "            print(\"It is not a triangle.\")\n",
    "        else:\n",
    "            \"Now, we know we can have a triangle, we are just trying to see what kind.\"\n",
    "            if a == b == c:\n",
    "                print(\"It is an equilateral triangle.\")\n",
    "            elif a == b or a == c or b == c:\n",
    "                print(\"It is an isosceles triangle.\")\n",
    "            elif a**2 == b**2 + c**2 or b**2 == c**2 + a**2 or c**2 == a**2 + b**2:\n",
    "                print(\"It is a right-angled triangle.\")\n",
    "            else:\n",
    "                print(\"It is a scalene triangle.\")"
   ]
  },
  {
   "cell_type": "code",
   "execution_count": 35,
   "metadata": {},
   "outputs": [
    {
     "data": {
      "text/plain": [
       "'Used to determine what type of triangle a triangle with sides of length a, b and c are\\n    \\n    Inputs:\\n        a, b, c: length of sides, default: 3, 4, 5\\n    '"
      ]
     },
     "execution_count": 35,
     "metadata": {},
     "output_type": "execute_result"
    }
   ],
   "source": [
    "my_function.__doc__"
   ]
  },
  {
   "cell_type": "markdown",
   "metadata": {},
   "source": [
    "One liners are for really simple functions, while multi lines would specify the inputs and outputs for more complicated functions."
   ]
  },
  {
   "cell_type": "markdown",
   "metadata": {},
   "source": [
    "#### Returning values\n",
    "\n",
    "While our existing function mostly prints out results already, we can use functions to be able to store and return values. This means that once the calculation has been performed by the function, instead of printing, we can use the function to store the result in another variable:"
   ]
  },
  {
   "cell_type": "code",
   "execution_count": 36,
   "metadata": {},
   "outputs": [],
   "source": [
    "#create the function\n",
    "def add_five(x):\n",
    "    \"\"\"adds five to the value of x\"\"\"\n",
    "    return x + 5"
   ]
  },
  {
   "cell_type": "code",
   "execution_count": 37,
   "metadata": {},
   "outputs": [
    {
     "name": "stdout",
     "output_type": "stream",
     "text": [
      "10\n"
     ]
    }
   ],
   "source": [
    "#call the function\n",
    "b = add_five(5)\n",
    "#print the result\n",
    "print(b)"
   ]
  },
  {
   "cell_type": "markdown",
   "metadata": {},
   "source": [
    "This is useful if we want to pass the output of one function as input into another function in a chain of functions based on what needs to be performed on the undelying data.\n",
    "\n",
    "The return function will essentially stop the function from running, so if you want a function to stop if a condition is met than you can use return:"
   ]
  },
  {
   "cell_type": "markdown",
   "metadata": {},
   "source": [
    "#### Global and Local Variables\n",
    "\n",
    "When dealing with functions, any variable that exists only in the function in called a **Local Variable**. This kind of variable can be used only in the function.\n",
    "\n",
    "<br>\n",
    "**Global Variables** are the ones that exist outside a function. This kind of variable can be used in the function too.\n",
    "\n",
    "It is important to be able to understand the distinction between these two and how they can or cannot be used:"
   ]
  },
  {
   "cell_type": "markdown",
   "metadata": {},
   "source": [
    "_Trying local variables outside the function._"
   ]
  },
  {
   "cell_type": "code",
   "execution_count": 42,
   "metadata": {},
   "outputs": [
    {
     "ename": "NameError",
     "evalue": "name 'y' is not defined",
     "output_type": "error",
     "traceback": [
      "\u001b[1;31m---------------------------------------------------------------------------\u001b[0m",
      "\u001b[1;31mNameError\u001b[0m                                 Traceback (most recent call last)",
      "\u001b[1;32m~\\AppData\\Local\\Temp/ipykernel_3564/2261376186.py\u001b[0m in \u001b[0;36m<module>\u001b[1;34m\u001b[0m\n\u001b[0;32m     10\u001b[0m \u001b[1;33m\u001b[0m\u001b[0m\n\u001b[0;32m     11\u001b[0m \u001b[1;31m# now, we will try to do an operation with x outside the function\u001b[0m\u001b[1;33m\u001b[0m\u001b[1;33m\u001b[0m\u001b[1;33m\u001b[0m\u001b[0m\n\u001b[1;32m---> 12\u001b[1;33m \u001b[0mprint\u001b[0m \u001b[1;33m(\u001b[0m\u001b[0my\u001b[0m\u001b[1;33m)\u001b[0m \u001b[1;31m# because x is a local variable in the function, it won't work\u001b[0m\u001b[1;33m\u001b[0m\u001b[1;33m\u001b[0m\u001b[0m\n\u001b[0m",
      "\u001b[1;31mNameError\u001b[0m: name 'y' is not defined"
     ]
    }
   ],
   "source": [
    "# define a function\n",
    "def function():\n",
    "    \"y is a local variable (it only exists within our function), we will give y the value 100\"\n",
    "    y = 100\n",
    "    # this function returns the value of x\n",
    "    return y\n",
    "\n",
    "# calling the function\n",
    "function()\n",
    "\n",
    "# now, we will try to do an operation with x outside the function\n",
    "print(y) \n",
    "# because y is a local variable in the function, it won't work\n",
    "#the error tells us that y is not defined"
   ]
  },
  {
   "cell_type": "markdown",
   "metadata": {},
   "source": [
    "_Using a global variable in the function._"
   ]
  },
  {
   "cell_type": "code",
   "execution_count": 10,
   "metadata": {},
   "outputs": [
    {
     "name": "stdout",
     "output_type": "stream",
     "text": [
      "x is a global variable\n"
     ]
    }
   ],
   "source": [
    "# assigning x a value as a global variable (outside the function)\n",
    "x = \"global variable\"\n",
    "\n",
    "\n",
    "# defining a function\n",
    "def function_2():\n",
    "    # we can use x because it's global in the function\n",
    "    print(\"x is a \" + x)\n",
    "\n",
    "        \n",
    "# calling the function        \n",
    "function_2()\n"
   ]
  },
  {
   "cell_type": "markdown",
   "metadata": {},
   "source": [
    "_changing a global variable in the function_."
   ]
  },
  {
   "cell_type": "code",
   "execution_count": 45,
   "metadata": {},
   "outputs": [
    {
     "name": "stdout",
     "output_type": "stream",
     "text": [
      "300\n",
      "200\n"
     ]
    }
   ],
   "source": [
    "c = 200\n",
    "\n",
    "#define a function\n",
    "def add_100(c):\n",
    "    #alter the local variable\n",
    "    return c+100\n",
    "\n",
    "#call the function\n",
    "print(add_100(c))\n",
    "\n",
    "#call the original variabl\n",
    "print(c)\n",
    "\n",
    "#c has not changed because only the local variable c has changed inside the function\n",
    "    "
   ]
  },
  {
   "cell_type": "markdown",
   "metadata": {},
   "source": [
    "The distinction between global and local variables is an important one.\n",
    "\n",
    "While global variables can be used in the function, it is bad practice as global variables can be changed outside of the function which will affect the outcome. It is better practice to define all the varibales that you would need inside the function using the parameter values.\n",
    "\n",
    "Local variables defined inside the function cannot be called outside the function so it is important to clearly define both local and global variables."
   ]
  },
  {
   "cell_type": "markdown",
   "metadata": {},
   "source": [
    "### More Problems\n",
    "1. Write an algorithm that calculates the product of the first 15 even numbers.\n",
    "2. Create a function that checks if a given number is a multiple of 4.\n",
    "3. Create a function that checks if a number is prime."
   ]
  }
 ],
 "metadata": {
  "kernelspec": {
   "display_name": "DSS",
   "language": "python",
   "name": "dss"
  },
  "language_info": {
   "codemirror_mode": {
    "name": "ipython",
    "version": 3
   },
   "file_extension": ".py",
   "mimetype": "text/x-python",
   "name": "python",
   "nbconvert_exporter": "python",
   "pygments_lexer": "ipython3",
   "version": "3.9.6"
  }
 },
 "nbformat": 4,
 "nbformat_minor": 2
}
